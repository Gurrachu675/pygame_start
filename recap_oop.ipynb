{
 "cells": [
  {
   "cell_type": "code",
   "execution_count": null,
   "metadata": {},
   "outputs": [],
   "source": [
    "#Entity - Component - System \n",
    "\n",
    "Entity - Data \n",
    "Component - Function/Methods that acts acts getter and setter the Data\n",
    "System "
   ]
  }
 ],
 "metadata": {
  "language_info": {
   "name": "python"
  }
 },
 "nbformat": 4,
 "nbformat_minor": 2
}
